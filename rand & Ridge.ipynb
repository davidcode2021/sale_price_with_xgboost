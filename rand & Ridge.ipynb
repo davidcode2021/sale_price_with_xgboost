{
 "cells": [
  {
   "cell_type": "code",
   "execution_count": null,
   "id": "a97ae956-6a23-409f-9fad-4f63822b8dd7",
   "metadata": {},
   "outputs": [],
   "source": [
    "import pandas as pd\n",
    "import numpy as np\n",
    "from sklearn.preprocessing import OneHotEncoder, StandardScaler\n",
    "from sklearn.model_selection import cross_val_score\n",
    "from sklearn.ensemble import RandomForestRegressor\n",
    "from sklearn.linear_model import LinearRegression, Ridge\n",
    "from sklearn.metrics import r2_score"
   ]
  },
  {
   "cell_type": "code",
   "execution_count": null,
   "id": "f5ce8af0-af89-4b33-ae9e-8c0d75e671da",
   "metadata": {},
   "outputs": [],
   "source": [
    "df=pd.read_csv(\"train.csv(2).zip\")"
   ]
  },
  {
   "cell_type": "code",
   "execution_count": null,
   "id": "a5a6c374-59cf-410f-ab07-32a2d6966f49",
   "metadata": {},
   "outputs": [],
   "source": [
    "df"
   ]
  },
  {
   "cell_type": "code",
   "execution_count": null,
   "id": "73ddc641-48ab-4fe7-ae10-e37d9931ec68",
   "metadata": {},
   "outputs": [],
   "source": [
    "df.info()"
   ]
  },
  {
   "cell_type": "code",
   "execution_count": null,
   "id": "60cf3aa3-3993-4739-9c52-c96360ffc64a",
   "metadata": {},
   "outputs": [],
   "source": [
    "# df[\"onpromotion\"].unique()\n",
    "# df[\"store_nbr\"].unique()\n",
    "# df[\"date\"].unique()\n",
    "df[\"family\"].unique()"
   ]
  },
  {
   "cell_type": "code",
   "execution_count": null,
   "id": "d08e4bb2-8019-4f16-8059-ca454ac7d2d2",
   "metadata": {},
   "outputs": [],
   "source": [
    "df=df.iloc[:,1:]"
   ]
  },
  {
   "cell_type": "code",
   "execution_count": null,
   "id": "47b95fa4-d015-4b76-9985-21e25cdb1335",
   "metadata": {},
   "outputs": [],
   "source": [
    "# df.head()"
   ]
  },
  {
   "cell_type": "code",
   "execution_count": null,
   "id": "eec0a087-6173-44b6-bdc9-5e8573ee3298",
   "metadata": {},
   "outputs": [],
   "source": [
    "df.isna().sum()"
   ]
  },
  {
   "cell_type": "code",
   "execution_count": null,
   "id": "4fb4e8ed-5035-4813-8aac-bd215c00501b",
   "metadata": {},
   "outputs": [],
   "source": [
    "df[\"date\"]=pd.to_datetime(df['date']).dt.day_name()"
   ]
  },
  {
   "cell_type": "code",
   "execution_count": null,
   "id": "b1f929b7-b5f0-4748-8099-474b5c1d6bbb",
   "metadata": {},
   "outputs": [],
   "source": [
    "# df=df.drop(\"family\", axis=1)"
   ]
  },
  {
   "cell_type": "code",
   "execution_count": null,
   "id": "6e282694-7337-4b72-b5be-8621f3f415fe",
   "metadata": {},
   "outputs": [],
   "source": [
    "# df=df.drop(\"date\", axis=1)"
   ]
  },
  {
   "cell_type": "code",
   "execution_count": null,
   "id": "d7fadcbf-d46c-4bb9-a0ab-3a91a56336b9",
   "metadata": {},
   "outputs": [],
   "source": [
    "# import seaborn as sns\n",
    "# corr_matrix=df[[\"sales\",\"onpromotion\",\"store_nbr\"]].corr()\n",
    "# sns.heatmap(corr_matrix)"
   ]
  },
  {
   "cell_type": "code",
   "execution_count": null,
   "id": "1bc2249d-2f96-4cdd-beff-c2f68bc64a37",
   "metadata": {},
   "outputs": [],
   "source": [
    "# encoder=OneHotEncoder()\n",
    "df=pd.get_dummies(df)"
   ]
  },
  {
   "cell_type": "code",
   "execution_count": null,
   "id": "2105ca62-bb90-4490-a79f-2fc824c3c1a4",
   "metadata": {},
   "outputs": [],
   "source": [
    "# df[\"date\"]=pd.Categorical(df[\"date\"]).codes\n",
    "# df[[\"onpromotion\",\"sales\"]].corr(method=\"pearson\")"
   ]
  },
  {
   "cell_type": "code",
   "execution_count": null,
   "id": "d87a2c27-7050-4660-bf8b-39b22135366a",
   "metadata": {},
   "outputs": [],
   "source": [
    "# target_mean = df.groupby(\"family\")[\"sales\"].mean()\n",
    "# df['family'] = df['family'].map(target_mean)"
   ]
  },
  {
   "cell_type": "code",
   "execution_count": null,
   "id": "b5010361-5c19-4b75-9db3-24ebc9606534",
   "metadata": {},
   "outputs": [],
   "source": [
    "df.head()"
   ]
  },
  {
   "cell_type": "code",
   "execution_count": null,
   "id": "28bbc77a-e8ca-4fc4-a3a4-7c5391384911",
   "metadata": {},
   "outputs": [],
   "source": [
    "scaler=StandardScaler()\n",
    "\n",
    "X=df.drop(\"sales\", axis=1)\n",
    "X=pd.DataFrame(scaler.fit_transform(X),columns=X.columns)\n",
    "y= df[\"sales\"]"
   ]
  },
  {
   "cell_type": "code",
   "execution_count": null,
   "id": "19863bdd-582c-49f0-b9a3-198bbcf2d795",
   "metadata": {},
   "outputs": [],
   "source": [
    "X.head()"
   ]
  },
  {
   "cell_type": "code",
   "execution_count": null,
   "id": "558e3879-218d-4934-8d95-332953b93112",
   "metadata": {},
   "outputs": [],
   "source": [
    "rdf=RandomForestRegressor(n_estimators=92, max_depth=7, min_samples_leaf=4, max_features=\"sqrt\",max_samples=0.7)\n",
    "# reg=LinearRegression()\n",
    "reg=Ridge(alpha=0.00000000000000000001)\n",
    "score=cross_val_score(reg,X,y, cv=5, scoring=\"r2\")\n",
    "# score2=cross_val_score(rdf,X,y, cv=5, scoring=\"r2\")\n"
   ]
  },
  {
   "cell_type": "code",
   "execution_count": null,
   "id": "3fc2aaa8-c10e-4a34-bb5b-bfdd1039f2ea",
   "metadata": {},
   "outputs": [],
   "source": [
    "np.mean(score)"
   ]
  },
  {
   "cell_type": "code",
   "execution_count": null,
   "id": "3c873ec9-744a-46cb-ba92-e209d6c80da0",
   "metadata": {},
   "outputs": [],
   "source": []
  }
 ],
 "metadata": {
  "kernelspec": {
   "display_name": "Python 3 (ipykernel)",
   "language": "python",
   "name": "python3"
  },
  "language_info": {
   "codemirror_mode": {
    "name": "ipython",
    "version": 3
   },
   "file_extension": ".py",
   "mimetype": "text/x-python",
   "name": "python",
   "nbconvert_exporter": "python",
   "pygments_lexer": "ipython3",
   "version": "3.12.4"
  }
 },
 "nbformat": 4,
 "nbformat_minor": 5
}
